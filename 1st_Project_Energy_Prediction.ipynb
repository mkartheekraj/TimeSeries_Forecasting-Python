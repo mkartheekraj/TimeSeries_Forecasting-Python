{
 "cells": [
  {
   "cell_type": "markdown",
   "id": "59f1e880-e67d-4154-9f38-4093c522cf00",
   "metadata": {},
   "source": [
    "# Importing libs"
   ]
  },
  {
   "cell_type": "code",
   "execution_count": 46,
   "id": "026b59ab-df91-4337-89c9-0815a480adfb",
   "metadata": {},
   "outputs": [],
   "source": [
    "import pandas as pd\n",
    "import statsmodels as st\n",
    "import matplotlib.pyplot as plt\n",
    "import numpy as np\n",
    "import scipy as sp\n"
   ]
  },
  {
   "cell_type": "markdown",
   "id": "47f8dcd1-c434-471f-a45e-69cc2c437a61",
   "metadata": {},
   "source": [
    "# Loading the Energy File"
   ]
  },
  {
   "cell_type": "code",
   "execution_count": 2,
   "id": "3caefb9e-f90d-4eea-9c25-d73bdfb2cba2",
   "metadata": {},
   "outputs": [],
   "source": [
    "Energy_MW=pd.read_csv('./Energy/Milestone 1 Dataset/hrl_load_metered - 20170201-20200131.csv')"
   ]
  },
  {
   "cell_type": "code",
   "execution_count": 3,
   "id": "99ec01c8-30bf-438a-b669-9da4e5096924",
   "metadata": {},
   "outputs": [
    {
     "data": {
      "text/html": [
       "<div>\n",
       "<style scoped>\n",
       "    .dataframe tbody tr th:only-of-type {\n",
       "        vertical-align: middle;\n",
       "    }\n",
       "\n",
       "    .dataframe tbody tr th {\n",
       "        vertical-align: top;\n",
       "    }\n",
       "\n",
       "    .dataframe thead th {\n",
       "        text-align: right;\n",
       "    }\n",
       "</style>\n",
       "<table border=\"1\" class=\"dataframe\">\n",
       "  <thead>\n",
       "    <tr style=\"text-align: right;\">\n",
       "      <th></th>\n",
       "      <th>datetime_beginning_utc</th>\n",
       "      <th>datetime_beginning_ept</th>\n",
       "      <th>nerc_region</th>\n",
       "      <th>mkt_region</th>\n",
       "      <th>zone</th>\n",
       "      <th>load_area</th>\n",
       "      <th>mw</th>\n",
       "      <th>is_verified</th>\n",
       "    </tr>\n",
       "  </thead>\n",
       "  <tbody>\n",
       "    <tr>\n",
       "      <th>0</th>\n",
       "      <td>2/1/2017 5:00</td>\n",
       "      <td>2/1/2017 0:00</td>\n",
       "      <td>RFC</td>\n",
       "      <td>WEST</td>\n",
       "      <td>DUQ</td>\n",
       "      <td>DUQ</td>\n",
       "      <td>1419.881</td>\n",
       "      <td>True</td>\n",
       "    </tr>\n",
       "    <tr>\n",
       "      <th>1</th>\n",
       "      <td>2/1/2017 6:00</td>\n",
       "      <td>2/1/2017 1:00</td>\n",
       "      <td>RFC</td>\n",
       "      <td>WEST</td>\n",
       "      <td>DUQ</td>\n",
       "      <td>DUQ</td>\n",
       "      <td>1379.505</td>\n",
       "      <td>True</td>\n",
       "    </tr>\n",
       "    <tr>\n",
       "      <th>2</th>\n",
       "      <td>2/1/2017 7:00</td>\n",
       "      <td>2/1/2017 2:00</td>\n",
       "      <td>RFC</td>\n",
       "      <td>WEST</td>\n",
       "      <td>DUQ</td>\n",
       "      <td>DUQ</td>\n",
       "      <td>1366.106</td>\n",
       "      <td>True</td>\n",
       "    </tr>\n",
       "    <tr>\n",
       "      <th>3</th>\n",
       "      <td>2/1/2017 8:00</td>\n",
       "      <td>2/1/2017 3:00</td>\n",
       "      <td>RFC</td>\n",
       "      <td>WEST</td>\n",
       "      <td>DUQ</td>\n",
       "      <td>DUQ</td>\n",
       "      <td>1364.453</td>\n",
       "      <td>True</td>\n",
       "    </tr>\n",
       "    <tr>\n",
       "      <th>4</th>\n",
       "      <td>2/1/2017 9:00</td>\n",
       "      <td>2/1/2017 4:00</td>\n",
       "      <td>RFC</td>\n",
       "      <td>WEST</td>\n",
       "      <td>DUQ</td>\n",
       "      <td>DUQ</td>\n",
       "      <td>1391.265</td>\n",
       "      <td>True</td>\n",
       "    </tr>\n",
       "  </tbody>\n",
       "</table>\n",
       "</div>"
      ],
      "text/plain": [
       "  datetime_beginning_utc datetime_beginning_ept nerc_region mkt_region zone  \\\n",
       "0          2/1/2017 5:00          2/1/2017 0:00         RFC       WEST  DUQ   \n",
       "1          2/1/2017 6:00          2/1/2017 1:00         RFC       WEST  DUQ   \n",
       "2          2/1/2017 7:00          2/1/2017 2:00         RFC       WEST  DUQ   \n",
       "3          2/1/2017 8:00          2/1/2017 3:00         RFC       WEST  DUQ   \n",
       "4          2/1/2017 9:00          2/1/2017 4:00         RFC       WEST  DUQ   \n",
       "\n",
       "  load_area        mw  is_verified  \n",
       "0       DUQ  1419.881         True  \n",
       "1       DUQ  1379.505         True  \n",
       "2       DUQ  1366.106         True  \n",
       "3       DUQ  1364.453         True  \n",
       "4       DUQ  1391.265         True  "
      ]
     },
     "execution_count": 3,
     "metadata": {},
     "output_type": "execute_result"
    }
   ],
   "source": [
    "Energy_MW.head()"
   ]
  },
  {
   "cell_type": "code",
   "execution_count": 4,
   "id": "ff07e090-aa8c-4f82-9773-cd014fdb5fb8",
   "metadata": {},
   "outputs": [
    {
     "data": {
      "text/plain": [
       "(26280, 8)"
      ]
     },
     "execution_count": 4,
     "metadata": {},
     "output_type": "execute_result"
    }
   ],
   "source": [
    "Energy_MW.shape"
   ]
  },
  {
   "cell_type": "markdown",
   "id": "fa45afc1-47f3-4748-8e72-8f20a0e72b6c",
   "metadata": {},
   "source": [
    "# Loading the Temp File"
   ]
  },
  {
   "cell_type": "code",
   "execution_count": 5,
   "id": "ed27f6ce-eefd-4f55-ac1e-ce106d171c67",
   "metadata": {},
   "outputs": [],
   "source": [
    "Temp_Drybulb=pd.read_csv('./Energy/Milestone 1 Dataset/hr_temp_20170201-20200131_subset.csv')"
   ]
  },
  {
   "cell_type": "code",
   "execution_count": 6,
   "id": "caedfd63-6704-4cd6-8579-0ac07a7e4c91",
   "metadata": {},
   "outputs": [
    {
     "data": {
      "text/html": [
       "<div>\n",
       "<style scoped>\n",
       "    .dataframe tbody tr th:only-of-type {\n",
       "        vertical-align: middle;\n",
       "    }\n",
       "\n",
       "    .dataframe tbody tr th {\n",
       "        vertical-align: top;\n",
       "    }\n",
       "\n",
       "    .dataframe thead th {\n",
       "        text-align: right;\n",
       "    }\n",
       "</style>\n",
       "<table border=\"1\" class=\"dataframe\">\n",
       "  <thead>\n",
       "    <tr style=\"text-align: right;\">\n",
       "      <th></th>\n",
       "      <th>STATION</th>\n",
       "      <th>DATE</th>\n",
       "      <th>REPORT_TYPE</th>\n",
       "      <th>SOURCE</th>\n",
       "      <th>HourlyDryBulbTemperature</th>\n",
       "    </tr>\n",
       "  </thead>\n",
       "  <tbody>\n",
       "    <tr>\n",
       "      <th>0</th>\n",
       "      <td>72520514762</td>\n",
       "      <td>2017-02-01T00:53:00</td>\n",
       "      <td>FM-15</td>\n",
       "      <td>7</td>\n",
       "      <td>37.0</td>\n",
       "    </tr>\n",
       "    <tr>\n",
       "      <th>1</th>\n",
       "      <td>72520514762</td>\n",
       "      <td>2017-02-01T01:53:00</td>\n",
       "      <td>FM-15</td>\n",
       "      <td>7</td>\n",
       "      <td>37.0</td>\n",
       "    </tr>\n",
       "    <tr>\n",
       "      <th>2</th>\n",
       "      <td>72520514762</td>\n",
       "      <td>2017-02-01T02:53:00</td>\n",
       "      <td>FM-15</td>\n",
       "      <td>7</td>\n",
       "      <td>36.0</td>\n",
       "    </tr>\n",
       "    <tr>\n",
       "      <th>3</th>\n",
       "      <td>72520514762</td>\n",
       "      <td>2017-02-01T03:53:00</td>\n",
       "      <td>FM-15</td>\n",
       "      <td>7</td>\n",
       "      <td>36.0</td>\n",
       "    </tr>\n",
       "    <tr>\n",
       "      <th>4</th>\n",
       "      <td>72520514762</td>\n",
       "      <td>2017-02-01T04:53:00</td>\n",
       "      <td>FM-15</td>\n",
       "      <td>7</td>\n",
       "      <td>36.0</td>\n",
       "    </tr>\n",
       "  </tbody>\n",
       "</table>\n",
       "</div>"
      ],
      "text/plain": [
       "       STATION                 DATE REPORT_TYPE  SOURCE  \\\n",
       "0  72520514762  2017-02-01T00:53:00       FM-15       7   \n",
       "1  72520514762  2017-02-01T01:53:00       FM-15       7   \n",
       "2  72520514762  2017-02-01T02:53:00       FM-15       7   \n",
       "3  72520514762  2017-02-01T03:53:00       FM-15       7   \n",
       "4  72520514762  2017-02-01T04:53:00       FM-15       7   \n",
       "\n",
       "   HourlyDryBulbTemperature  \n",
       "0                      37.0  \n",
       "1                      37.0  \n",
       "2                      36.0  \n",
       "3                      36.0  \n",
       "4                      36.0  "
      ]
     },
     "execution_count": 6,
     "metadata": {},
     "output_type": "execute_result"
    }
   ],
   "source": [
    "Temp_Drybulb.head()"
   ]
  },
  {
   "cell_type": "code",
   "execution_count": 7,
   "id": "e7451d0a-a2ee-47e5-9d9e-e5fb6f712891",
   "metadata": {},
   "outputs": [
    {
     "data": {
      "text/plain": [
       "(26280, 5)"
      ]
     },
     "execution_count": 7,
     "metadata": {},
     "output_type": "execute_result"
    }
   ],
   "source": [
    "Temp_Drybulb.shape"
   ]
  },
  {
   "cell_type": "markdown",
   "id": "bb189a93-3c41-4505-8137-6940d677bc4d",
   "metadata": {},
   "source": [
    "# Conversion of Energy date time variable to datatime64 type "
   ]
  },
  {
   "cell_type": "code",
   "execution_count": 8,
   "id": "c080bc27-9d22-4604-a340-71c9ade16cc8",
   "metadata": {},
   "outputs": [],
   "source": [
    "Energy_MW.datetime_beginning_ept=Energy_MW.datetime_beginning_ept.astype('datetime64')"
   ]
  },
  {
   "cell_type": "code",
   "execution_count": 9,
   "id": "f80c74d3-4909-43d5-8be9-2b64c015b182",
   "metadata": {},
   "outputs": [
    {
     "data": {
      "text/plain": [
       "dtype('<M8[ns]')"
      ]
     },
     "execution_count": 9,
     "metadata": {},
     "output_type": "execute_result"
    }
   ],
   "source": [
    "Energy_MW.datetime_beginning_ept.dtype"
   ]
  },
  {
   "cell_type": "code",
   "execution_count": 10,
   "id": "3d32c825-e5bb-473d-adc2-c3501fb2ea57",
   "metadata": {},
   "outputs": [
    {
     "data": {
      "text/html": [
       "<div>\n",
       "<style scoped>\n",
       "    .dataframe tbody tr th:only-of-type {\n",
       "        vertical-align: middle;\n",
       "    }\n",
       "\n",
       "    .dataframe tbody tr th {\n",
       "        vertical-align: top;\n",
       "    }\n",
       "\n",
       "    .dataframe thead th {\n",
       "        text-align: right;\n",
       "    }\n",
       "</style>\n",
       "<table border=\"1\" class=\"dataframe\">\n",
       "  <thead>\n",
       "    <tr style=\"text-align: right;\">\n",
       "      <th></th>\n",
       "      <th>datetime_beginning_utc</th>\n",
       "      <th>datetime_beginning_ept</th>\n",
       "      <th>nerc_region</th>\n",
       "      <th>mkt_region</th>\n",
       "      <th>zone</th>\n",
       "      <th>load_area</th>\n",
       "      <th>mw</th>\n",
       "      <th>is_verified</th>\n",
       "    </tr>\n",
       "  </thead>\n",
       "  <tbody>\n",
       "    <tr>\n",
       "      <th>0</th>\n",
       "      <td>2/1/2017 5:00</td>\n",
       "      <td>2017-02-01 00:00:00</td>\n",
       "      <td>RFC</td>\n",
       "      <td>WEST</td>\n",
       "      <td>DUQ</td>\n",
       "      <td>DUQ</td>\n",
       "      <td>1419.881</td>\n",
       "      <td>True</td>\n",
       "    </tr>\n",
       "    <tr>\n",
       "      <th>1</th>\n",
       "      <td>2/1/2017 6:00</td>\n",
       "      <td>2017-02-01 01:00:00</td>\n",
       "      <td>RFC</td>\n",
       "      <td>WEST</td>\n",
       "      <td>DUQ</td>\n",
       "      <td>DUQ</td>\n",
       "      <td>1379.505</td>\n",
       "      <td>True</td>\n",
       "    </tr>\n",
       "    <tr>\n",
       "      <th>2</th>\n",
       "      <td>2/1/2017 7:00</td>\n",
       "      <td>2017-02-01 02:00:00</td>\n",
       "      <td>RFC</td>\n",
       "      <td>WEST</td>\n",
       "      <td>DUQ</td>\n",
       "      <td>DUQ</td>\n",
       "      <td>1366.106</td>\n",
       "      <td>True</td>\n",
       "    </tr>\n",
       "    <tr>\n",
       "      <th>3</th>\n",
       "      <td>2/1/2017 8:00</td>\n",
       "      <td>2017-02-01 03:00:00</td>\n",
       "      <td>RFC</td>\n",
       "      <td>WEST</td>\n",
       "      <td>DUQ</td>\n",
       "      <td>DUQ</td>\n",
       "      <td>1364.453</td>\n",
       "      <td>True</td>\n",
       "    </tr>\n",
       "    <tr>\n",
       "      <th>4</th>\n",
       "      <td>2/1/2017 9:00</td>\n",
       "      <td>2017-02-01 04:00:00</td>\n",
       "      <td>RFC</td>\n",
       "      <td>WEST</td>\n",
       "      <td>DUQ</td>\n",
       "      <td>DUQ</td>\n",
       "      <td>1391.265</td>\n",
       "      <td>True</td>\n",
       "    </tr>\n",
       "  </tbody>\n",
       "</table>\n",
       "</div>"
      ],
      "text/plain": [
       "  datetime_beginning_utc datetime_beginning_ept nerc_region mkt_region zone  \\\n",
       "0          2/1/2017 5:00    2017-02-01 00:00:00         RFC       WEST  DUQ   \n",
       "1          2/1/2017 6:00    2017-02-01 01:00:00         RFC       WEST  DUQ   \n",
       "2          2/1/2017 7:00    2017-02-01 02:00:00         RFC       WEST  DUQ   \n",
       "3          2/1/2017 8:00    2017-02-01 03:00:00         RFC       WEST  DUQ   \n",
       "4          2/1/2017 9:00    2017-02-01 04:00:00         RFC       WEST  DUQ   \n",
       "\n",
       "  load_area        mw  is_verified  \n",
       "0       DUQ  1419.881         True  \n",
       "1       DUQ  1379.505         True  \n",
       "2       DUQ  1366.106         True  \n",
       "3       DUQ  1364.453         True  \n",
       "4       DUQ  1391.265         True  "
      ]
     },
     "execution_count": 10,
     "metadata": {},
     "output_type": "execute_result"
    }
   ],
   "source": [
    "Energy_MW.head()"
   ]
  },
  {
   "cell_type": "markdown",
   "id": "5acdbf8e-0f64-40b9-82cb-21af4a59d311",
   "metadata": {},
   "source": [
    "# Conversion of temp DATE variable to datatime64 type "
   ]
  },
  {
   "cell_type": "code",
   "execution_count": 11,
   "id": "8c4b5244-4c14-43e0-8bc8-1705ab396bcc",
   "metadata": {},
   "outputs": [],
   "source": [
    "Temp_Drybulb.DATE=Temp_Drybulb.DATE.astype('datetime64')"
   ]
  },
  {
   "cell_type": "code",
   "execution_count": 12,
   "id": "ece1d8f4-55a9-466f-b91d-69330e2b284f",
   "metadata": {},
   "outputs": [
    {
     "data": {
      "text/plain": [
       "dtype('<M8[ns]')"
      ]
     },
     "execution_count": 12,
     "metadata": {},
     "output_type": "execute_result"
    }
   ],
   "source": [
    "Temp_Drybulb.DATE.dtype"
   ]
  },
  {
   "cell_type": "code",
   "execution_count": 13,
   "id": "2e82e0a9-e8c5-447f-8e86-f7b69ff16d9c",
   "metadata": {},
   "outputs": [
    {
     "data": {
      "text/html": [
       "<div>\n",
       "<style scoped>\n",
       "    .dataframe tbody tr th:only-of-type {\n",
       "        vertical-align: middle;\n",
       "    }\n",
       "\n",
       "    .dataframe tbody tr th {\n",
       "        vertical-align: top;\n",
       "    }\n",
       "\n",
       "    .dataframe thead th {\n",
       "        text-align: right;\n",
       "    }\n",
       "</style>\n",
       "<table border=\"1\" class=\"dataframe\">\n",
       "  <thead>\n",
       "    <tr style=\"text-align: right;\">\n",
       "      <th></th>\n",
       "      <th>STATION</th>\n",
       "      <th>DATE</th>\n",
       "      <th>REPORT_TYPE</th>\n",
       "      <th>SOURCE</th>\n",
       "      <th>HourlyDryBulbTemperature</th>\n",
       "    </tr>\n",
       "  </thead>\n",
       "  <tbody>\n",
       "    <tr>\n",
       "      <th>0</th>\n",
       "      <td>72520514762</td>\n",
       "      <td>2017-02-01 00:53:00</td>\n",
       "      <td>FM-15</td>\n",
       "      <td>7</td>\n",
       "      <td>37.0</td>\n",
       "    </tr>\n",
       "    <tr>\n",
       "      <th>1</th>\n",
       "      <td>72520514762</td>\n",
       "      <td>2017-02-01 01:53:00</td>\n",
       "      <td>FM-15</td>\n",
       "      <td>7</td>\n",
       "      <td>37.0</td>\n",
       "    </tr>\n",
       "    <tr>\n",
       "      <th>2</th>\n",
       "      <td>72520514762</td>\n",
       "      <td>2017-02-01 02:53:00</td>\n",
       "      <td>FM-15</td>\n",
       "      <td>7</td>\n",
       "      <td>36.0</td>\n",
       "    </tr>\n",
       "    <tr>\n",
       "      <th>3</th>\n",
       "      <td>72520514762</td>\n",
       "      <td>2017-02-01 03:53:00</td>\n",
       "      <td>FM-15</td>\n",
       "      <td>7</td>\n",
       "      <td>36.0</td>\n",
       "    </tr>\n",
       "    <tr>\n",
       "      <th>4</th>\n",
       "      <td>72520514762</td>\n",
       "      <td>2017-02-01 04:53:00</td>\n",
       "      <td>FM-15</td>\n",
       "      <td>7</td>\n",
       "      <td>36.0</td>\n",
       "    </tr>\n",
       "  </tbody>\n",
       "</table>\n",
       "</div>"
      ],
      "text/plain": [
       "       STATION                DATE REPORT_TYPE  SOURCE  \\\n",
       "0  72520514762 2017-02-01 00:53:00       FM-15       7   \n",
       "1  72520514762 2017-02-01 01:53:00       FM-15       7   \n",
       "2  72520514762 2017-02-01 02:53:00       FM-15       7   \n",
       "3  72520514762 2017-02-01 03:53:00       FM-15       7   \n",
       "4  72520514762 2017-02-01 04:53:00       FM-15       7   \n",
       "\n",
       "   HourlyDryBulbTemperature  \n",
       "0                      37.0  \n",
       "1                      37.0  \n",
       "2                      36.0  \n",
       "3                      36.0  \n",
       "4                      36.0  "
      ]
     },
     "execution_count": 13,
     "metadata": {},
     "output_type": "execute_result"
    }
   ],
   "source": [
    "Temp_Drybulb.head()\n",
    "# Temp_Drybulb.DATE.dt.strftime('%y-%m-%d %H')\n",
    "# TicketsDF['submitDate'].dt.strftime('%H:%M')"
   ]
  },
  {
   "cell_type": "markdown",
   "id": "5cdd9ab5-e0a9-40bc-9414-255fb9f19e5e",
   "metadata": {},
   "source": [
    "# Performing left join temp and energy data frame "
   ]
  },
  {
   "cell_type": "code",
   "execution_count": 14,
   "id": "b1f0ffec-3975-4567-b89f-156e571abd18",
   "metadata": {},
   "outputs": [],
   "source": [
    "df=pd.merge(Temp_Drybulb[['DATE','HourlyDryBulbTemperature']],Energy_MW[['datetime_beginning_ept','mw']],how='left',left_on=Temp_Drybulb.DATE.dt.strftime('%y-%m-%d %H'),right_on=Energy_MW.datetime_beginning_ept.dt.strftime('%y-%m-%d %H'))"
   ]
  },
  {
   "cell_type": "code",
   "execution_count": 15,
   "id": "b4e37dcb-e916-47c0-a0b8-6f02c0f46a8e",
   "metadata": {},
   "outputs": [
    {
     "data": {
      "text/html": [
       "<div>\n",
       "<style scoped>\n",
       "    .dataframe tbody tr th:only-of-type {\n",
       "        vertical-align: middle;\n",
       "    }\n",
       "\n",
       "    .dataframe tbody tr th {\n",
       "        vertical-align: top;\n",
       "    }\n",
       "\n",
       "    .dataframe thead th {\n",
       "        text-align: right;\n",
       "    }\n",
       "</style>\n",
       "<table border=\"1\" class=\"dataframe\">\n",
       "  <thead>\n",
       "    <tr style=\"text-align: right;\">\n",
       "      <th></th>\n",
       "      <th>key_0</th>\n",
       "      <th>DATE</th>\n",
       "      <th>HourlyDryBulbTemperature</th>\n",
       "      <th>datetime_beginning_ept</th>\n",
       "      <th>mw</th>\n",
       "    </tr>\n",
       "  </thead>\n",
       "  <tbody>\n",
       "    <tr>\n",
       "      <th>0</th>\n",
       "      <td>17-02-01 00</td>\n",
       "      <td>2017-02-01 00:53:00</td>\n",
       "      <td>37.0</td>\n",
       "      <td>2017-02-01 00:00:00</td>\n",
       "      <td>1419.881</td>\n",
       "    </tr>\n",
       "    <tr>\n",
       "      <th>1</th>\n",
       "      <td>17-02-01 01</td>\n",
       "      <td>2017-02-01 01:53:00</td>\n",
       "      <td>37.0</td>\n",
       "      <td>2017-02-01 01:00:00</td>\n",
       "      <td>1379.505</td>\n",
       "    </tr>\n",
       "    <tr>\n",
       "      <th>2</th>\n",
       "      <td>17-02-01 02</td>\n",
       "      <td>2017-02-01 02:53:00</td>\n",
       "      <td>36.0</td>\n",
       "      <td>2017-02-01 02:00:00</td>\n",
       "      <td>1366.106</td>\n",
       "    </tr>\n",
       "    <tr>\n",
       "      <th>3</th>\n",
       "      <td>17-02-01 03</td>\n",
       "      <td>2017-02-01 03:53:00</td>\n",
       "      <td>36.0</td>\n",
       "      <td>2017-02-01 03:00:00</td>\n",
       "      <td>1364.453</td>\n",
       "    </tr>\n",
       "    <tr>\n",
       "      <th>4</th>\n",
       "      <td>17-02-01 04</td>\n",
       "      <td>2017-02-01 04:53:00</td>\n",
       "      <td>36.0</td>\n",
       "      <td>2017-02-01 04:00:00</td>\n",
       "      <td>1391.265</td>\n",
       "    </tr>\n",
       "  </tbody>\n",
       "</table>\n",
       "</div>"
      ],
      "text/plain": [
       "         key_0                DATE  HourlyDryBulbTemperature  \\\n",
       "0  17-02-01 00 2017-02-01 00:53:00                      37.0   \n",
       "1  17-02-01 01 2017-02-01 01:53:00                      37.0   \n",
       "2  17-02-01 02 2017-02-01 02:53:00                      36.0   \n",
       "3  17-02-01 03 2017-02-01 03:53:00                      36.0   \n",
       "4  17-02-01 04 2017-02-01 04:53:00                      36.0   \n",
       "\n",
       "  datetime_beginning_ept        mw  \n",
       "0    2017-02-01 00:00:00  1419.881  \n",
       "1    2017-02-01 01:00:00  1379.505  \n",
       "2    2017-02-01 02:00:00  1366.106  \n",
       "3    2017-02-01 03:00:00  1364.453  \n",
       "4    2017-02-01 04:00:00  1391.265  "
      ]
     },
     "execution_count": 15,
     "metadata": {},
     "output_type": "execute_result"
    }
   ],
   "source": [
    "df.head()"
   ]
  },
  {
   "cell_type": "code",
   "execution_count": 16,
   "id": "c05f4bed-ed0e-4675-ae6a-09684e1e2863",
   "metadata": {},
   "outputs": [
    {
     "data": {
      "text/plain": [
       "(26283, 5)"
      ]
     },
     "execution_count": 16,
     "metadata": {},
     "output_type": "execute_result"
    }
   ],
   "source": [
    "df.shape"
   ]
  },
  {
   "cell_type": "markdown",
   "id": "d65e1420-44f4-493a-8ad0-4f1dfdb09d8a",
   "metadata": {},
   "source": [
    "# Dropping the unwanted features and  null values "
   ]
  },
  {
   "cell_type": "code",
   "execution_count": 17,
   "id": "861dd764-990e-4395-9617-cf728f3a8a9d",
   "metadata": {},
   "outputs": [],
   "source": [
    "df= df.drop(columns=['key_0','datetime_beginning_ept'])"
   ]
  },
  {
   "cell_type": "code",
   "execution_count": 18,
   "id": "57f1cc20-36bd-4309-a8b9-1aa7c18e5223",
   "metadata": {},
   "outputs": [
    {
     "data": {
      "text/html": [
       "<div>\n",
       "<style scoped>\n",
       "    .dataframe tbody tr th:only-of-type {\n",
       "        vertical-align: middle;\n",
       "    }\n",
       "\n",
       "    .dataframe tbody tr th {\n",
       "        vertical-align: top;\n",
       "    }\n",
       "\n",
       "    .dataframe thead th {\n",
       "        text-align: right;\n",
       "    }\n",
       "</style>\n",
       "<table border=\"1\" class=\"dataframe\">\n",
       "  <thead>\n",
       "    <tr style=\"text-align: right;\">\n",
       "      <th></th>\n",
       "      <th>DATE</th>\n",
       "      <th>HourlyDryBulbTemperature</th>\n",
       "      <th>mw</th>\n",
       "    </tr>\n",
       "  </thead>\n",
       "  <tbody>\n",
       "    <tr>\n",
       "      <th>0</th>\n",
       "      <td>2017-02-01 00:53:00</td>\n",
       "      <td>37.0</td>\n",
       "      <td>1419.881</td>\n",
       "    </tr>\n",
       "    <tr>\n",
       "      <th>1</th>\n",
       "      <td>2017-02-01 01:53:00</td>\n",
       "      <td>37.0</td>\n",
       "      <td>1379.505</td>\n",
       "    </tr>\n",
       "    <tr>\n",
       "      <th>2</th>\n",
       "      <td>2017-02-01 02:53:00</td>\n",
       "      <td>36.0</td>\n",
       "      <td>1366.106</td>\n",
       "    </tr>\n",
       "    <tr>\n",
       "      <th>3</th>\n",
       "      <td>2017-02-01 03:53:00</td>\n",
       "      <td>36.0</td>\n",
       "      <td>1364.453</td>\n",
       "    </tr>\n",
       "    <tr>\n",
       "      <th>4</th>\n",
       "      <td>2017-02-01 04:53:00</td>\n",
       "      <td>36.0</td>\n",
       "      <td>1391.265</td>\n",
       "    </tr>\n",
       "  </tbody>\n",
       "</table>\n",
       "</div>"
      ],
      "text/plain": [
       "                 DATE  HourlyDryBulbTemperature        mw\n",
       "0 2017-02-01 00:53:00                      37.0  1419.881\n",
       "1 2017-02-01 01:53:00                      37.0  1379.505\n",
       "2 2017-02-01 02:53:00                      36.0  1366.106\n",
       "3 2017-02-01 03:53:00                      36.0  1364.453\n",
       "4 2017-02-01 04:53:00                      36.0  1391.265"
      ]
     },
     "execution_count": 18,
     "metadata": {},
     "output_type": "execute_result"
    }
   ],
   "source": [
    "# df=df.dropna()\n",
    "df.head()"
   ]
  },
  {
   "cell_type": "markdown",
   "id": "a1d24ba3-ba07-42dd-bc80-ca882a354ff3",
   "metadata": {},
   "source": [
    "# Adding the hour,week,month and year features to data frame "
   ]
  },
  {
   "cell_type": "code",
   "execution_count": 19,
   "id": "469e6941-6494-4dcb-a30d-69e36879eadb",
   "metadata": {},
   "outputs": [
    {
     "data": {
      "text/html": [
       "<div>\n",
       "<style scoped>\n",
       "    .dataframe tbody tr th:only-of-type {\n",
       "        vertical-align: middle;\n",
       "    }\n",
       "\n",
       "    .dataframe tbody tr th {\n",
       "        vertical-align: top;\n",
       "    }\n",
       "\n",
       "    .dataframe thead th {\n",
       "        text-align: right;\n",
       "    }\n",
       "</style>\n",
       "<table border=\"1\" class=\"dataframe\">\n",
       "  <thead>\n",
       "    <tr style=\"text-align: right;\">\n",
       "      <th></th>\n",
       "      <th>Date</th>\n",
       "      <th>mw</th>\n",
       "      <th>temp</th>\n",
       "    </tr>\n",
       "  </thead>\n",
       "  <tbody>\n",
       "    <tr>\n",
       "      <th>0</th>\n",
       "      <td>2017-02-01 00:53:00</td>\n",
       "      <td>1419.881</td>\n",
       "      <td>37.0</td>\n",
       "    </tr>\n",
       "    <tr>\n",
       "      <th>1</th>\n",
       "      <td>2017-02-01 01:53:00</td>\n",
       "      <td>1379.505</td>\n",
       "      <td>37.0</td>\n",
       "    </tr>\n",
       "    <tr>\n",
       "      <th>2</th>\n",
       "      <td>2017-02-01 02:53:00</td>\n",
       "      <td>1366.106</td>\n",
       "      <td>36.0</td>\n",
       "    </tr>\n",
       "    <tr>\n",
       "      <th>3</th>\n",
       "      <td>2017-02-01 03:53:00</td>\n",
       "      <td>1364.453</td>\n",
       "      <td>36.0</td>\n",
       "    </tr>\n",
       "    <tr>\n",
       "      <th>4</th>\n",
       "      <td>2017-02-01 04:53:00</td>\n",
       "      <td>1391.265</td>\n",
       "      <td>36.0</td>\n",
       "    </tr>\n",
       "  </tbody>\n",
       "</table>\n",
       "</div>"
      ],
      "text/plain": [
       "                 Date        mw  temp\n",
       "0 2017-02-01 00:53:00  1419.881  37.0\n",
       "1 2017-02-01 01:53:00  1379.505  37.0\n",
       "2 2017-02-01 02:53:00  1366.106  36.0\n",
       "3 2017-02-01 03:53:00  1364.453  36.0\n",
       "4 2017-02-01 04:53:00  1391.265  36.0"
      ]
     },
     "execution_count": 19,
     "metadata": {},
     "output_type": "execute_result"
    }
   ],
   "source": [
    "df=df.rename(columns={'HourlyDryBulbTemperature':'temp','DATE':'Date'})\n",
    "\n",
    "df=df.reindex(columns=['Date','mw','temp'])\n",
    "df.head()"
   ]
  },
  {
   "cell_type": "code",
   "execution_count": 20,
   "id": "2975027f-d7cf-49a8-8510-11de70eabc4e",
   "metadata": {},
   "outputs": [
    {
     "data": {
      "text/html": [
       "<div>\n",
       "<style scoped>\n",
       "    .dataframe tbody tr th:only-of-type {\n",
       "        vertical-align: middle;\n",
       "    }\n",
       "\n",
       "    .dataframe tbody tr th {\n",
       "        vertical-align: top;\n",
       "    }\n",
       "\n",
       "    .dataframe thead th {\n",
       "        text-align: right;\n",
       "    }\n",
       "</style>\n",
       "<table border=\"1\" class=\"dataframe\">\n",
       "  <thead>\n",
       "    <tr style=\"text-align: right;\">\n",
       "      <th></th>\n",
       "      <th>Date</th>\n",
       "      <th>mw</th>\n",
       "      <th>temp</th>\n",
       "      <th>hour</th>\n",
       "      <th>weekday</th>\n",
       "      <th>momth</th>\n",
       "      <th>year</th>\n",
       "    </tr>\n",
       "  </thead>\n",
       "  <tbody>\n",
       "    <tr>\n",
       "      <th>0</th>\n",
       "      <td>2017-02-01 00:53:00</td>\n",
       "      <td>1419.881</td>\n",
       "      <td>37.0</td>\n",
       "      <td>0</td>\n",
       "      <td>2</td>\n",
       "      <td>2</td>\n",
       "      <td>2017</td>\n",
       "    </tr>\n",
       "    <tr>\n",
       "      <th>1</th>\n",
       "      <td>2017-02-01 01:53:00</td>\n",
       "      <td>1379.505</td>\n",
       "      <td>37.0</td>\n",
       "      <td>1</td>\n",
       "      <td>2</td>\n",
       "      <td>2</td>\n",
       "      <td>2017</td>\n",
       "    </tr>\n",
       "    <tr>\n",
       "      <th>2</th>\n",
       "      <td>2017-02-01 02:53:00</td>\n",
       "      <td>1366.106</td>\n",
       "      <td>36.0</td>\n",
       "      <td>2</td>\n",
       "      <td>2</td>\n",
       "      <td>2</td>\n",
       "      <td>2017</td>\n",
       "    </tr>\n",
       "    <tr>\n",
       "      <th>3</th>\n",
       "      <td>2017-02-01 03:53:00</td>\n",
       "      <td>1364.453</td>\n",
       "      <td>36.0</td>\n",
       "      <td>3</td>\n",
       "      <td>2</td>\n",
       "      <td>2</td>\n",
       "      <td>2017</td>\n",
       "    </tr>\n",
       "    <tr>\n",
       "      <th>4</th>\n",
       "      <td>2017-02-01 04:53:00</td>\n",
       "      <td>1391.265</td>\n",
       "      <td>36.0</td>\n",
       "      <td>4</td>\n",
       "      <td>2</td>\n",
       "      <td>2</td>\n",
       "      <td>2017</td>\n",
       "    </tr>\n",
       "  </tbody>\n",
       "</table>\n",
       "</div>"
      ],
      "text/plain": [
       "                 Date        mw  temp  hour  weekday  momth  year\n",
       "0 2017-02-01 00:53:00  1419.881  37.0     0        2      2  2017\n",
       "1 2017-02-01 01:53:00  1379.505  37.0     1        2      2  2017\n",
       "2 2017-02-01 02:53:00  1366.106  36.0     2        2      2  2017\n",
       "3 2017-02-01 03:53:00  1364.453  36.0     3        2      2  2017\n",
       "4 2017-02-01 04:53:00  1391.265  36.0     4        2      2  2017"
      ]
     },
     "execution_count": 20,
     "metadata": {},
     "output_type": "execute_result"
    }
   ],
   "source": [
    "df['hour']=df.Date.dt.hour\n",
    "df['weekday']=df.Date.dt.weekday\n",
    "df['momth']=df.Date.dt.month\n",
    "df['year']=df.Date.dt.year\n",
    "df.head()"
   ]
  },
  {
   "cell_type": "markdown",
   "id": "63724823-3ef1-48dc-92d0-c218bd22c256",
   "metadata": {},
   "source": [
    "# Set Date ad index "
   ]
  },
  {
   "cell_type": "code",
   "execution_count": 21,
   "id": "0b1a7445-8f00-44e4-8c9f-fad0f0021edc",
   "metadata": {},
   "outputs": [
    {
     "data": {
      "text/plain": [
       "dtype('<M8[ns]')"
      ]
     },
     "execution_count": 21,
     "metadata": {},
     "output_type": "execute_result"
    }
   ],
   "source": [
    "df.Date.dtype"
   ]
  },
  {
   "cell_type": "code",
   "execution_count": 22,
   "id": "2bb30f54-548f-48c6-b110-f91e3bc05511",
   "metadata": {},
   "outputs": [],
   "source": [
    "df = df.set_index(['Date'])"
   ]
  },
  {
   "cell_type": "code",
   "execution_count": 24,
   "id": "d9defb26-df11-4a4b-b30d-0c2e1ef13827",
   "metadata": {},
   "outputs": [
    {
     "data": {
      "text/html": [
       "<div>\n",
       "<style scoped>\n",
       "    .dataframe tbody tr th:only-of-type {\n",
       "        vertical-align: middle;\n",
       "    }\n",
       "\n",
       "    .dataframe tbody tr th {\n",
       "        vertical-align: top;\n",
       "    }\n",
       "\n",
       "    .dataframe thead th {\n",
       "        text-align: right;\n",
       "    }\n",
       "</style>\n",
       "<table border=\"1\" class=\"dataframe\">\n",
       "  <thead>\n",
       "    <tr style=\"text-align: right;\">\n",
       "      <th></th>\n",
       "      <th>mw</th>\n",
       "      <th>temp</th>\n",
       "      <th>hour</th>\n",
       "      <th>weekday</th>\n",
       "      <th>momth</th>\n",
       "      <th>year</th>\n",
       "    </tr>\n",
       "    <tr>\n",
       "      <th>Date</th>\n",
       "      <th></th>\n",
       "      <th></th>\n",
       "      <th></th>\n",
       "      <th></th>\n",
       "      <th></th>\n",
       "      <th></th>\n",
       "    </tr>\n",
       "  </thead>\n",
       "  <tbody>\n",
       "    <tr>\n",
       "      <th>2017-02-01 00:53:00</th>\n",
       "      <td>1419.881</td>\n",
       "      <td>37.0</td>\n",
       "      <td>0</td>\n",
       "      <td>2</td>\n",
       "      <td>2</td>\n",
       "      <td>2017</td>\n",
       "    </tr>\n",
       "    <tr>\n",
       "      <th>2017-02-01 01:53:00</th>\n",
       "      <td>1379.505</td>\n",
       "      <td>37.0</td>\n",
       "      <td>1</td>\n",
       "      <td>2</td>\n",
       "      <td>2</td>\n",
       "      <td>2017</td>\n",
       "    </tr>\n",
       "    <tr>\n",
       "      <th>2017-02-01 02:53:00</th>\n",
       "      <td>1366.106</td>\n",
       "      <td>36.0</td>\n",
       "      <td>2</td>\n",
       "      <td>2</td>\n",
       "      <td>2</td>\n",
       "      <td>2017</td>\n",
       "    </tr>\n",
       "    <tr>\n",
       "      <th>2017-02-01 03:53:00</th>\n",
       "      <td>1364.453</td>\n",
       "      <td>36.0</td>\n",
       "      <td>3</td>\n",
       "      <td>2</td>\n",
       "      <td>2</td>\n",
       "      <td>2017</td>\n",
       "    </tr>\n",
       "    <tr>\n",
       "      <th>2017-02-01 04:53:00</th>\n",
       "      <td>1391.265</td>\n",
       "      <td>36.0</td>\n",
       "      <td>4</td>\n",
       "      <td>2</td>\n",
       "      <td>2</td>\n",
       "      <td>2017</td>\n",
       "    </tr>\n",
       "  </tbody>\n",
       "</table>\n",
       "</div>"
      ],
      "text/plain": [
       "                           mw  temp  hour  weekday  momth  year\n",
       "Date                                                           \n",
       "2017-02-01 00:53:00  1419.881  37.0     0        2      2  2017\n",
       "2017-02-01 01:53:00  1379.505  37.0     1        2      2  2017\n",
       "2017-02-01 02:53:00  1366.106  36.0     2        2      2  2017\n",
       "2017-02-01 03:53:00  1364.453  36.0     3        2      2  2017\n",
       "2017-02-01 04:53:00  1391.265  36.0     4        2      2  2017"
      ]
     },
     "execution_count": 24,
     "metadata": {},
     "output_type": "execute_result"
    }
   ],
   "source": [
    "df.head()"
   ]
  },
  {
   "cell_type": "code",
   "execution_count": 139,
   "id": "33bf1eaa-7a82-49b5-881a-795a5cdc7fd5",
   "metadata": {},
   "outputs": [
    {
     "data": {
      "text/html": [
       "<div>\n",
       "<style scoped>\n",
       "    .dataframe tbody tr th:only-of-type {\n",
       "        vertical-align: middle;\n",
       "    }\n",
       "\n",
       "    .dataframe tbody tr th {\n",
       "        vertical-align: top;\n",
       "    }\n",
       "\n",
       "    .dataframe thead th {\n",
       "        text-align: right;\n",
       "    }\n",
       "</style>\n",
       "<table border=\"1\" class=\"dataframe\">\n",
       "  <thead>\n",
       "    <tr style=\"text-align: right;\">\n",
       "      <th></th>\n",
       "      <th>mw</th>\n",
       "      <th>temp</th>\n",
       "      <th>hour</th>\n",
       "      <th>weekday</th>\n",
       "      <th>momth</th>\n",
       "      <th>year</th>\n",
       "    </tr>\n",
       "    <tr>\n",
       "      <th>Date</th>\n",
       "      <th></th>\n",
       "      <th></th>\n",
       "      <th></th>\n",
       "      <th></th>\n",
       "      <th></th>\n",
       "      <th></th>\n",
       "    </tr>\n",
       "  </thead>\n",
       "  <tbody>\n",
       "    <tr>\n",
       "      <th>2020-01-31 19:53:00</th>\n",
       "      <td>1618.484</td>\n",
       "      <td>34.0</td>\n",
       "      <td>19</td>\n",
       "      <td>4</td>\n",
       "      <td>1</td>\n",
       "      <td>2020</td>\n",
       "    </tr>\n",
       "    <tr>\n",
       "      <th>2020-01-31 20:53:00</th>\n",
       "      <td>1580.925</td>\n",
       "      <td>33.0</td>\n",
       "      <td>20</td>\n",
       "      <td>4</td>\n",
       "      <td>1</td>\n",
       "      <td>2020</td>\n",
       "    </tr>\n",
       "    <tr>\n",
       "      <th>2020-01-31 21:53:00</th>\n",
       "      <td>1545.354</td>\n",
       "      <td>33.0</td>\n",
       "      <td>21</td>\n",
       "      <td>4</td>\n",
       "      <td>1</td>\n",
       "      <td>2020</td>\n",
       "    </tr>\n",
       "    <tr>\n",
       "      <th>2020-01-31 22:53:00</th>\n",
       "      <td>1478.832</td>\n",
       "      <td>33.0</td>\n",
       "      <td>22</td>\n",
       "      <td>4</td>\n",
       "      <td>1</td>\n",
       "      <td>2020</td>\n",
       "    </tr>\n",
       "    <tr>\n",
       "      <th>2020-01-31 23:53:00</th>\n",
       "      <td>1405.188</td>\n",
       "      <td>34.0</td>\n",
       "      <td>23</td>\n",
       "      <td>4</td>\n",
       "      <td>1</td>\n",
       "      <td>2020</td>\n",
       "    </tr>\n",
       "  </tbody>\n",
       "</table>\n",
       "</div>"
      ],
      "text/plain": [
       "                           mw  temp  hour  weekday  momth  year\n",
       "Date                                                           \n",
       "2020-01-31 19:53:00  1618.484  34.0    19        4      1  2020\n",
       "2020-01-31 20:53:00  1580.925  33.0    20        4      1  2020\n",
       "2020-01-31 21:53:00  1545.354  33.0    21        4      1  2020\n",
       "2020-01-31 22:53:00  1478.832  33.0    22        4      1  2020\n",
       "2020-01-31 23:53:00  1405.188  34.0    23        4      1  2020"
      ]
     },
     "execution_count": 139,
     "metadata": {},
     "output_type": "execute_result"
    }
   ],
   "source": [
    "df.tail()"
   ]
  },
  {
   "cell_type": "markdown",
   "id": "a1838069-cf22-4714-82ac-8d66e6fa859a",
   "metadata": {},
   "source": [
    "# Interpolate the  missing values to nearest ones "
   ]
  },
  {
   "cell_type": "code",
   "execution_count": 32,
   "id": "ffd1abce-f565-4f02-b772-69452bd26d3d",
   "metadata": {},
   "outputs": [],
   "source": [
    "df= df.interpolate(method='nearest')"
   ]
  },
  {
   "cell_type": "code",
   "execution_count": 33,
   "id": "d0860088-ae25-467a-a254-4fce07d090d4",
   "metadata": {},
   "outputs": [
    {
     "data": {
      "text/plain": [
       "0"
      ]
     },
     "execution_count": 33,
     "metadata": {},
     "output_type": "execute_result"
    }
   ],
   "source": [
    "df.isna().values.sum()"
   ]
  },
  {
   "cell_type": "code",
   "execution_count": 138,
   "id": "f8fd9ef1-b445-474d-8f5a-c4b3df53ae85",
   "metadata": {},
   "outputs": [
    {
     "data": {
      "text/html": [
       "<div>\n",
       "<style scoped>\n",
       "    .dataframe tbody tr th:only-of-type {\n",
       "        vertical-align: middle;\n",
       "    }\n",
       "\n",
       "    .dataframe tbody tr th {\n",
       "        vertical-align: top;\n",
       "    }\n",
       "\n",
       "    .dataframe thead th {\n",
       "        text-align: right;\n",
       "    }\n",
       "</style>\n",
       "<table border=\"1\" class=\"dataframe\">\n",
       "  <thead>\n",
       "    <tr style=\"text-align: right;\">\n",
       "      <th></th>\n",
       "      <th>mw</th>\n",
       "      <th>temp</th>\n",
       "      <th>hour</th>\n",
       "      <th>weekday</th>\n",
       "      <th>momth</th>\n",
       "      <th>year</th>\n",
       "    </tr>\n",
       "    <tr>\n",
       "      <th>Date</th>\n",
       "      <th></th>\n",
       "      <th></th>\n",
       "      <th></th>\n",
       "      <th></th>\n",
       "      <th></th>\n",
       "      <th></th>\n",
       "    </tr>\n",
       "  </thead>\n",
       "  <tbody>\n",
       "    <tr>\n",
       "      <th>2017-02-01 00:53:00</th>\n",
       "      <td>1419.881</td>\n",
       "      <td>37.0</td>\n",
       "      <td>0</td>\n",
       "      <td>2</td>\n",
       "      <td>2</td>\n",
       "      <td>2017</td>\n",
       "    </tr>\n",
       "    <tr>\n",
       "      <th>2017-02-01 01:53:00</th>\n",
       "      <td>1379.505</td>\n",
       "      <td>37.0</td>\n",
       "      <td>1</td>\n",
       "      <td>2</td>\n",
       "      <td>2</td>\n",
       "      <td>2017</td>\n",
       "    </tr>\n",
       "    <tr>\n",
       "      <th>2017-02-01 02:53:00</th>\n",
       "      <td>1366.106</td>\n",
       "      <td>36.0</td>\n",
       "      <td>2</td>\n",
       "      <td>2</td>\n",
       "      <td>2</td>\n",
       "      <td>2017</td>\n",
       "    </tr>\n",
       "    <tr>\n",
       "      <th>2017-02-01 03:53:00</th>\n",
       "      <td>1364.453</td>\n",
       "      <td>36.0</td>\n",
       "      <td>3</td>\n",
       "      <td>2</td>\n",
       "      <td>2</td>\n",
       "      <td>2017</td>\n",
       "    </tr>\n",
       "    <tr>\n",
       "      <th>2017-02-01 04:53:00</th>\n",
       "      <td>1391.265</td>\n",
       "      <td>36.0</td>\n",
       "      <td>4</td>\n",
       "      <td>2</td>\n",
       "      <td>2</td>\n",
       "      <td>2017</td>\n",
       "    </tr>\n",
       "    <tr>\n",
       "      <th>...</th>\n",
       "      <td>...</td>\n",
       "      <td>...</td>\n",
       "      <td>...</td>\n",
       "      <td>...</td>\n",
       "      <td>...</td>\n",
       "      <td>...</td>\n",
       "    </tr>\n",
       "    <tr>\n",
       "      <th>2019-12-31 19:53:00</th>\n",
       "      <td>1606.134</td>\n",
       "      <td>32.0</td>\n",
       "      <td>19</td>\n",
       "      <td>1</td>\n",
       "      <td>12</td>\n",
       "      <td>2019</td>\n",
       "    </tr>\n",
       "    <tr>\n",
       "      <th>2019-12-31 20:53:00</th>\n",
       "      <td>1565.014</td>\n",
       "      <td>32.0</td>\n",
       "      <td>20</td>\n",
       "      <td>1</td>\n",
       "      <td>12</td>\n",
       "      <td>2019</td>\n",
       "    </tr>\n",
       "    <tr>\n",
       "      <th>2019-12-31 21:53:00</th>\n",
       "      <td>1515.905</td>\n",
       "      <td>32.0</td>\n",
       "      <td>21</td>\n",
       "      <td>1</td>\n",
       "      <td>12</td>\n",
       "      <td>2019</td>\n",
       "    </tr>\n",
       "    <tr>\n",
       "      <th>2019-12-31 22:53:00</th>\n",
       "      <td>1474.519</td>\n",
       "      <td>30.0</td>\n",
       "      <td>22</td>\n",
       "      <td>1</td>\n",
       "      <td>12</td>\n",
       "      <td>2019</td>\n",
       "    </tr>\n",
       "    <tr>\n",
       "      <th>2019-12-31 23:53:00</th>\n",
       "      <td>1421.717</td>\n",
       "      <td>30.0</td>\n",
       "      <td>23</td>\n",
       "      <td>1</td>\n",
       "      <td>12</td>\n",
       "      <td>2019</td>\n",
       "    </tr>\n",
       "  </tbody>\n",
       "</table>\n",
       "<p>25539 rows × 6 columns</p>\n",
       "</div>"
      ],
      "text/plain": [
       "                           mw  temp  hour  weekday  momth  year\n",
       "Date                                                           \n",
       "2017-02-01 00:53:00  1419.881  37.0     0        2      2  2017\n",
       "2017-02-01 01:53:00  1379.505  37.0     1        2      2  2017\n",
       "2017-02-01 02:53:00  1366.106  36.0     2        2      2  2017\n",
       "2017-02-01 03:53:00  1364.453  36.0     3        2      2  2017\n",
       "2017-02-01 04:53:00  1391.265  36.0     4        2      2  2017\n",
       "...                       ...   ...   ...      ...    ...   ...\n",
       "2019-12-31 19:53:00  1606.134  32.0    19        1     12  2019\n",
       "2019-12-31 20:53:00  1565.014  32.0    20        1     12  2019\n",
       "2019-12-31 21:53:00  1515.905  32.0    21        1     12  2019\n",
       "2019-12-31 22:53:00  1474.519  30.0    22        1     12  2019\n",
       "2019-12-31 23:53:00  1421.717  30.0    23        1     12  2019\n",
       "\n",
       "[25539 rows x 6 columns]"
      ]
     },
     "execution_count": 138,
     "metadata": {},
     "output_type": "execute_result"
    }
   ],
   "source": [
    "df['2017-02-01 00:53:00' : '2019-12-31 23:59:59']"
   ]
  },
  {
   "cell_type": "markdown",
   "id": "b1e13880-5f71-4488-be53-b924d7b5bc81",
   "metadata": {},
   "source": [
    "# Train and Test data split "
   ]
  },
  {
   "cell_type": "code",
   "execution_count": 140,
   "id": "ec5bc914-bfa0-4b99-837c-b7871b021835",
   "metadata": {},
   "outputs": [],
   "source": [
    "# from datetime import datetime as dt\n",
    "# train_size = '2017-02-01 00:53:00' : '2019-12-31 23:59:59'\n",
    "\n",
    "# train_size = dt.strptime(dt_str, '%Y-%m-%d %H:%M:%S')\n",
    "\n",
    "# # train_size=pd.to_datetime(train_size,format='%Y%m%d%')\n",
    "# type(train_size)\n",
    "df_train=df['2017-02-01 00:53:00' : '2019-12-31 23:59:59']\n",
    "df_test=df['2019-12-31 23:59:59': '2020-01-31 23:53:00']"
   ]
  },
  {
   "cell_type": "code",
   "execution_count": 141,
   "id": "e2c36121-a96b-4ebd-ae30-568eaa75577b",
   "metadata": {},
   "outputs": [
    {
     "data": {
      "text/plain": [
       "(25539, 6)"
      ]
     },
     "execution_count": 141,
     "metadata": {},
     "output_type": "execute_result"
    }
   ],
   "source": [
    "df_train.shape"
   ]
  },
  {
   "cell_type": "code",
   "execution_count": 142,
   "id": "a5bff2ea-9c33-43ec-b5d5-ac59c52ccd2a",
   "metadata": {},
   "outputs": [
    {
     "data": {
      "text/plain": [
       "(744, 6)"
      ]
     },
     "execution_count": 142,
     "metadata": {},
     "output_type": "execute_result"
    }
   ],
   "source": [
    "df_test.shape"
   ]
  },
  {
   "cell_type": "code",
   "execution_count": 143,
   "id": "31f8b205-8e49-47c9-9652-bc14a01e4e3c",
   "metadata": {},
   "outputs": [
    {
     "name": "stdout",
     "output_type": "stream",
     "text": [
      "Train\n",
      "                           mw  temp  hour  weekday  momth  year\n",
      "Date                                                           \n",
      "2017-02-01 00:53:00  1419.881  37.0     0        2      2  2017\n",
      "2017-02-01 01:53:00  1379.505  37.0     1        2      2  2017\n",
      "2017-02-01 02:53:00  1366.106  36.0     2        2      2  2017\n",
      "2017-02-01 03:53:00  1364.453  36.0     3        2      2  2017\n",
      "2017-02-01 04:53:00  1391.265  36.0     4        2      2  2017\n",
      "...                       ...   ...   ...      ...    ...   ...\n",
      "2019-12-31 19:53:00  1606.134  32.0    19        1     12  2019\n",
      "2019-12-31 20:53:00  1565.014  32.0    20        1     12  2019\n",
      "2019-12-31 21:53:00  1515.905  32.0    21        1     12  2019\n",
      "2019-12-31 22:53:00  1474.519  30.0    22        1     12  2019\n",
      "2019-12-31 23:53:00  1421.717  30.0    23        1     12  2019\n",
      "\n",
      "[25539 rows x 6 columns]\n"
     ]
    }
   ],
   "source": [
    "print('Train', df_train,sep='\\n')"
   ]
  },
  {
   "cell_type": "code",
   "execution_count": 144,
   "id": "977c6ca9-85fe-4116-aa65-16cb21657cfe",
   "metadata": {},
   "outputs": [
    {
     "name": "stdout",
     "output_type": "stream",
     "text": [
      "Test\n",
      "                           mw  temp  hour  weekday  momth  year\n",
      "Date                                                           \n",
      "2020-01-01 00:53:00  1363.428  31.0     0        2      1  2020\n",
      "2020-01-01 01:53:00  1335.975  29.0     1        2      1  2020\n",
      "2020-01-01 02:53:00  1296.817  30.0     2        2      1  2020\n",
      "2020-01-01 03:53:00  1288.403  30.0     3        2      1  2020\n",
      "2020-01-01 04:53:00  1292.263  31.0     4        2      1  2020\n",
      "...                       ...   ...   ...      ...    ...   ...\n",
      "2020-01-31 19:53:00  1618.484  34.0    19        4      1  2020\n",
      "2020-01-31 20:53:00  1580.925  33.0    20        4      1  2020\n",
      "2020-01-31 21:53:00  1545.354  33.0    21        4      1  2020\n",
      "2020-01-31 22:53:00  1478.832  33.0    22        4      1  2020\n",
      "2020-01-31 23:53:00  1405.188  34.0    23        4      1  2020\n",
      "\n",
      "[744 rows x 6 columns]\n"
     ]
    }
   ],
   "source": [
    "print('Test', df_test,sep='\\n')"
   ]
  }
 ],
 "metadata": {
  "kernelspec": {
   "display_name": "Python 3 (ipykernel)",
   "language": "python",
   "name": "python3"
  },
  "language_info": {
   "codemirror_mode": {
    "name": "ipython",
    "version": 3
   },
   "file_extension": ".py",
   "mimetype": "text/x-python",
   "name": "python",
   "nbconvert_exporter": "python",
   "pygments_lexer": "ipython3",
   "version": "3.10.6"
  }
 },
 "nbformat": 4,
 "nbformat_minor": 5
}
