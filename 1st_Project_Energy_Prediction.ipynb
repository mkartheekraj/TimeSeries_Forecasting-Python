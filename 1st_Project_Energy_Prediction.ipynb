{
 "cells": [
  {
   "cell_type": "code",
   "execution_count": 3,
   "id": "026b59ab-df91-4337-89c9-0815a480adfb",
   "metadata": {},
   "outputs": [],
   "source": [
    "import pandas as pd\n",
    "import statsmodels as st"
   ]
  },
  {
   "cell_type": "code",
   "execution_count": 31,
   "id": "3caefb9e-f90d-4eea-9c25-d73bdfb2cba2",
   "metadata": {},
   "outputs": [],
   "source": [
    "Energy_MW=pd.read_csv('./Energy/Milestone 1 Dataset/hrl_load_metered - 20170201-20200131.csv')"
   ]
  },
  {
   "cell_type": "code",
   "execution_count": 32,
   "id": "99ec01c8-30bf-438a-b669-9da4e5096924",
   "metadata": {},
   "outputs": [
    {
     "data": {
      "text/html": [
       "<div>\n",
       "<style scoped>\n",
       "    .dataframe tbody tr th:only-of-type {\n",
       "        vertical-align: middle;\n",
       "    }\n",
       "\n",
       "    .dataframe tbody tr th {\n",
       "        vertical-align: top;\n",
       "    }\n",
       "\n",
       "    .dataframe thead th {\n",
       "        text-align: right;\n",
       "    }\n",
       "</style>\n",
       "<table border=\"1\" class=\"dataframe\">\n",
       "  <thead>\n",
       "    <tr style=\"text-align: right;\">\n",
       "      <th></th>\n",
       "      <th>datetime_beginning_utc</th>\n",
       "      <th>datetime_beginning_ept</th>\n",
       "      <th>nerc_region</th>\n",
       "      <th>mkt_region</th>\n",
       "      <th>zone</th>\n",
       "      <th>load_area</th>\n",
       "      <th>mw</th>\n",
       "      <th>is_verified</th>\n",
       "    </tr>\n",
       "  </thead>\n",
       "  <tbody>\n",
       "    <tr>\n",
       "      <th>0</th>\n",
       "      <td>2/1/2017 5:00</td>\n",
       "      <td>2/1/2017 0:00</td>\n",
       "      <td>RFC</td>\n",
       "      <td>WEST</td>\n",
       "      <td>DUQ</td>\n",
       "      <td>DUQ</td>\n",
       "      <td>1419.881</td>\n",
       "      <td>True</td>\n",
       "    </tr>\n",
       "    <tr>\n",
       "      <th>1</th>\n",
       "      <td>2/1/2017 6:00</td>\n",
       "      <td>2/1/2017 1:00</td>\n",
       "      <td>RFC</td>\n",
       "      <td>WEST</td>\n",
       "      <td>DUQ</td>\n",
       "      <td>DUQ</td>\n",
       "      <td>1379.505</td>\n",
       "      <td>True</td>\n",
       "    </tr>\n",
       "    <tr>\n",
       "      <th>2</th>\n",
       "      <td>2/1/2017 7:00</td>\n",
       "      <td>2/1/2017 2:00</td>\n",
       "      <td>RFC</td>\n",
       "      <td>WEST</td>\n",
       "      <td>DUQ</td>\n",
       "      <td>DUQ</td>\n",
       "      <td>1366.106</td>\n",
       "      <td>True</td>\n",
       "    </tr>\n",
       "    <tr>\n",
       "      <th>3</th>\n",
       "      <td>2/1/2017 8:00</td>\n",
       "      <td>2/1/2017 3:00</td>\n",
       "      <td>RFC</td>\n",
       "      <td>WEST</td>\n",
       "      <td>DUQ</td>\n",
       "      <td>DUQ</td>\n",
       "      <td>1364.453</td>\n",
       "      <td>True</td>\n",
       "    </tr>\n",
       "    <tr>\n",
       "      <th>4</th>\n",
       "      <td>2/1/2017 9:00</td>\n",
       "      <td>2/1/2017 4:00</td>\n",
       "      <td>RFC</td>\n",
       "      <td>WEST</td>\n",
       "      <td>DUQ</td>\n",
       "      <td>DUQ</td>\n",
       "      <td>1391.265</td>\n",
       "      <td>True</td>\n",
       "    </tr>\n",
       "  </tbody>\n",
       "</table>\n",
       "</div>"
      ],
      "text/plain": [
       "  datetime_beginning_utc datetime_beginning_ept nerc_region mkt_region zone  \\\n",
       "0          2/1/2017 5:00          2/1/2017 0:00         RFC       WEST  DUQ   \n",
       "1          2/1/2017 6:00          2/1/2017 1:00         RFC       WEST  DUQ   \n",
       "2          2/1/2017 7:00          2/1/2017 2:00         RFC       WEST  DUQ   \n",
       "3          2/1/2017 8:00          2/1/2017 3:00         RFC       WEST  DUQ   \n",
       "4          2/1/2017 9:00          2/1/2017 4:00         RFC       WEST  DUQ   \n",
       "\n",
       "  load_area        mw  is_verified  \n",
       "0       DUQ  1419.881         True  \n",
       "1       DUQ  1379.505         True  \n",
       "2       DUQ  1366.106         True  \n",
       "3       DUQ  1364.453         True  \n",
       "4       DUQ  1391.265         True  "
      ]
     },
     "execution_count": 32,
     "metadata": {},
     "output_type": "execute_result"
    }
   ],
   "source": [
    "Energy_MW.head()"
   ]
  },
  {
   "cell_type": "code",
   "execution_count": 6,
   "id": "68fb81d4-3f7a-4e7d-8238-859396816e70",
   "metadata": {},
   "outputs": [
    {
     "data": {
      "text/html": [
       "<div>\n",
       "<style scoped>\n",
       "    .dataframe tbody tr th:only-of-type {\n",
       "        vertical-align: middle;\n",
       "    }\n",
       "\n",
       "    .dataframe tbody tr th {\n",
       "        vertical-align: top;\n",
       "    }\n",
       "\n",
       "    .dataframe thead th {\n",
       "        text-align: right;\n",
       "    }\n",
       "</style>\n",
       "<table border=\"1\" class=\"dataframe\">\n",
       "  <thead>\n",
       "    <tr style=\"text-align: right;\">\n",
       "      <th></th>\n",
       "      <th>datetime_beginning_utc</th>\n",
       "      <th>datetime_beginning_ept</th>\n",
       "      <th>nerc_region</th>\n",
       "      <th>mkt_region</th>\n",
       "      <th>zone</th>\n",
       "      <th>load_area</th>\n",
       "      <th>mw</th>\n",
       "      <th>is_verified</th>\n",
       "    </tr>\n",
       "  </thead>\n",
       "  <tbody>\n",
       "    <tr>\n",
       "      <th>0</th>\n",
       "      <td>2/1/2017 5:00</td>\n",
       "      <td>2/1/2017 0:00</td>\n",
       "      <td>RFC</td>\n",
       "      <td>WEST</td>\n",
       "      <td>DUQ</td>\n",
       "      <td>DUQ</td>\n",
       "      <td>1419.881</td>\n",
       "      <td>True</td>\n",
       "    </tr>\n",
       "    <tr>\n",
       "      <th>1</th>\n",
       "      <td>2/1/2017 6:00</td>\n",
       "      <td>2/1/2017 1:00</td>\n",
       "      <td>RFC</td>\n",
       "      <td>WEST</td>\n",
       "      <td>DUQ</td>\n",
       "      <td>DUQ</td>\n",
       "      <td>1379.505</td>\n",
       "      <td>True</td>\n",
       "    </tr>\n",
       "    <tr>\n",
       "      <th>2</th>\n",
       "      <td>2/1/2017 7:00</td>\n",
       "      <td>2/1/2017 2:00</td>\n",
       "      <td>RFC</td>\n",
       "      <td>WEST</td>\n",
       "      <td>DUQ</td>\n",
       "      <td>DUQ</td>\n",
       "      <td>1366.106</td>\n",
       "      <td>True</td>\n",
       "    </tr>\n",
       "    <tr>\n",
       "      <th>3</th>\n",
       "      <td>2/1/2017 8:00</td>\n",
       "      <td>2/1/2017 3:00</td>\n",
       "      <td>RFC</td>\n",
       "      <td>WEST</td>\n",
       "      <td>DUQ</td>\n",
       "      <td>DUQ</td>\n",
       "      <td>1364.453</td>\n",
       "      <td>True</td>\n",
       "    </tr>\n",
       "    <tr>\n",
       "      <th>4</th>\n",
       "      <td>2/1/2017 9:00</td>\n",
       "      <td>2/1/2017 4:00</td>\n",
       "      <td>RFC</td>\n",
       "      <td>WEST</td>\n",
       "      <td>DUQ</td>\n",
       "      <td>DUQ</td>\n",
       "      <td>1391.265</td>\n",
       "      <td>True</td>\n",
       "    </tr>\n",
       "  </tbody>\n",
       "</table>\n",
       "</div>"
      ],
      "text/plain": [
       "  datetime_beginning_utc datetime_beginning_ept nerc_region mkt_region zone  \\\n",
       "0          2/1/2017 5:00          2/1/2017 0:00         RFC       WEST  DUQ   \n",
       "1          2/1/2017 6:00          2/1/2017 1:00         RFC       WEST  DUQ   \n",
       "2          2/1/2017 7:00          2/1/2017 2:00         RFC       WEST  DUQ   \n",
       "3          2/1/2017 8:00          2/1/2017 3:00         RFC       WEST  DUQ   \n",
       "4          2/1/2017 9:00          2/1/2017 4:00         RFC       WEST  DUQ   \n",
       "\n",
       "  load_area        mw  is_verified  \n",
       "0       DUQ  1419.881         True  \n",
       "1       DUQ  1379.505         True  \n",
       "2       DUQ  1366.106         True  \n",
       "3       DUQ  1364.453         True  \n",
       "4       DUQ  1391.265         True  "
      ]
     },
     "execution_count": 6,
     "metadata": {},
     "output_type": "execute_result"
    }
   ],
   "source": [
    "Energy_MW.head()"
   ]
  },
  {
   "cell_type": "code",
   "execution_count": 7,
   "id": "ff07e090-aa8c-4f82-9773-cd014fdb5fb8",
   "metadata": {},
   "outputs": [
    {
     "data": {
      "text/plain": [
       "(26280, 8)"
      ]
     },
     "execution_count": 7,
     "metadata": {},
     "output_type": "execute_result"
    }
   ],
   "source": [
    "Energy_MW.shape"
   ]
  },
  {
   "cell_type": "code",
   "execution_count": 33,
   "id": "ed27f6ce-eefd-4f55-ac1e-ce106d171c67",
   "metadata": {},
   "outputs": [],
   "source": [
    "Temp_Drybulb=pd.read_csv('./Energy/Milestone 1 Dataset/hr_temp_20170201-20200131_subset.csv')"
   ]
  },
  {
   "cell_type": "code",
   "execution_count": 34,
   "id": "caedfd63-6704-4cd6-8579-0ac07a7e4c91",
   "metadata": {},
   "outputs": [
    {
     "data": {
      "text/html": [
       "<div>\n",
       "<style scoped>\n",
       "    .dataframe tbody tr th:only-of-type {\n",
       "        vertical-align: middle;\n",
       "    }\n",
       "\n",
       "    .dataframe tbody tr th {\n",
       "        vertical-align: top;\n",
       "    }\n",
       "\n",
       "    .dataframe thead th {\n",
       "        text-align: right;\n",
       "    }\n",
       "</style>\n",
       "<table border=\"1\" class=\"dataframe\">\n",
       "  <thead>\n",
       "    <tr style=\"text-align: right;\">\n",
       "      <th></th>\n",
       "      <th>STATION</th>\n",
       "      <th>DATE</th>\n",
       "      <th>REPORT_TYPE</th>\n",
       "      <th>SOURCE</th>\n",
       "      <th>HourlyDryBulbTemperature</th>\n",
       "    </tr>\n",
       "  </thead>\n",
       "  <tbody>\n",
       "    <tr>\n",
       "      <th>0</th>\n",
       "      <td>72520514762</td>\n",
       "      <td>2017-02-01T00:53:00</td>\n",
       "      <td>FM-15</td>\n",
       "      <td>7</td>\n",
       "      <td>37.0</td>\n",
       "    </tr>\n",
       "    <tr>\n",
       "      <th>1</th>\n",
       "      <td>72520514762</td>\n",
       "      <td>2017-02-01T01:53:00</td>\n",
       "      <td>FM-15</td>\n",
       "      <td>7</td>\n",
       "      <td>37.0</td>\n",
       "    </tr>\n",
       "    <tr>\n",
       "      <th>2</th>\n",
       "      <td>72520514762</td>\n",
       "      <td>2017-02-01T02:53:00</td>\n",
       "      <td>FM-15</td>\n",
       "      <td>7</td>\n",
       "      <td>36.0</td>\n",
       "    </tr>\n",
       "    <tr>\n",
       "      <th>3</th>\n",
       "      <td>72520514762</td>\n",
       "      <td>2017-02-01T03:53:00</td>\n",
       "      <td>FM-15</td>\n",
       "      <td>7</td>\n",
       "      <td>36.0</td>\n",
       "    </tr>\n",
       "    <tr>\n",
       "      <th>4</th>\n",
       "      <td>72520514762</td>\n",
       "      <td>2017-02-01T04:53:00</td>\n",
       "      <td>FM-15</td>\n",
       "      <td>7</td>\n",
       "      <td>36.0</td>\n",
       "    </tr>\n",
       "  </tbody>\n",
       "</table>\n",
       "</div>"
      ],
      "text/plain": [
       "       STATION                 DATE REPORT_TYPE  SOURCE  \\\n",
       "0  72520514762  2017-02-01T00:53:00       FM-15       7   \n",
       "1  72520514762  2017-02-01T01:53:00       FM-15       7   \n",
       "2  72520514762  2017-02-01T02:53:00       FM-15       7   \n",
       "3  72520514762  2017-02-01T03:53:00       FM-15       7   \n",
       "4  72520514762  2017-02-01T04:53:00       FM-15       7   \n",
       "\n",
       "   HourlyDryBulbTemperature  \n",
       "0                      37.0  \n",
       "1                      37.0  \n",
       "2                      36.0  \n",
       "3                      36.0  \n",
       "4                      36.0  "
      ]
     },
     "execution_count": 34,
     "metadata": {},
     "output_type": "execute_result"
    }
   ],
   "source": [
    "Temp_Drybulb.head()"
   ]
  },
  {
   "cell_type": "code",
   "execution_count": 10,
   "id": "e7451d0a-a2ee-47e5-9d9e-e5fb6f712891",
   "metadata": {},
   "outputs": [
    {
     "data": {
      "text/plain": [
       "(26280, 5)"
      ]
     },
     "execution_count": 10,
     "metadata": {},
     "output_type": "execute_result"
    }
   ],
   "source": [
    "Temp_Drybulb.shape"
   ]
  },
  {
   "cell_type": "code",
   "execution_count": 11,
   "id": "c080bc27-9d22-4604-a340-71c9ade16cc8",
   "metadata": {},
   "outputs": [],
   "source": [
    "Energy_MW.datetime_beginning_ept=Energy_MW.datetime_beginning_ept.astype('datetime64')"
   ]
  },
  {
   "cell_type": "code",
   "execution_count": 12,
   "id": "f80c74d3-4909-43d5-8be9-2b64c015b182",
   "metadata": {},
   "outputs": [
    {
     "data": {
      "text/plain": [
       "dtype('<M8[ns]')"
      ]
     },
     "execution_count": 12,
     "metadata": {},
     "output_type": "execute_result"
    }
   ],
   "source": [
    "Energy_MW.datetime_beginning_ept.dtype"
   ]
  },
  {
   "cell_type": "code",
   "execution_count": 13,
   "id": "cea399f6-b2e3-4b85-a9fe-cca70367bd9b",
   "metadata": {},
   "outputs": [
    {
     "data": {
      "text/plain": [
       "0       2017-02-01 00:00:00\n",
       "1       2017-02-01 01:00:00\n",
       "2       2017-02-01 02:00:00\n",
       "3       2017-02-01 03:00:00\n",
       "4       2017-02-01 04:00:00\n",
       "                ...        \n",
       "26275   2020-01-31 19:00:00\n",
       "26276   2020-01-31 20:00:00\n",
       "26277   2020-01-31 21:00:00\n",
       "26278   2020-01-31 22:00:00\n",
       "26279   2020-01-31 23:00:00\n",
       "Name: datetime_beginning_ept, Length: 26280, dtype: datetime64[ns]"
      ]
     },
     "execution_count": 13,
     "metadata": {},
     "output_type": "execute_result"
    }
   ],
   "source": [
    "Energy_MW.datetime_beginning_ept"
   ]
  },
  {
   "cell_type": "code",
   "execution_count": 14,
   "id": "3d32c825-e5bb-473d-adc2-c3501fb2ea57",
   "metadata": {},
   "outputs": [
    {
     "data": {
      "text/html": [
       "<div>\n",
       "<style scoped>\n",
       "    .dataframe tbody tr th:only-of-type {\n",
       "        vertical-align: middle;\n",
       "    }\n",
       "\n",
       "    .dataframe tbody tr th {\n",
       "        vertical-align: top;\n",
       "    }\n",
       "\n",
       "    .dataframe thead th {\n",
       "        text-align: right;\n",
       "    }\n",
       "</style>\n",
       "<table border=\"1\" class=\"dataframe\">\n",
       "  <thead>\n",
       "    <tr style=\"text-align: right;\">\n",
       "      <th></th>\n",
       "      <th>datetime_beginning_utc</th>\n",
       "      <th>datetime_beginning_ept</th>\n",
       "      <th>nerc_region</th>\n",
       "      <th>mkt_region</th>\n",
       "      <th>zone</th>\n",
       "      <th>load_area</th>\n",
       "      <th>mw</th>\n",
       "      <th>is_verified</th>\n",
       "    </tr>\n",
       "  </thead>\n",
       "  <tbody>\n",
       "    <tr>\n",
       "      <th>0</th>\n",
       "      <td>2/1/2017 5:00</td>\n",
       "      <td>2017-02-01 00:00:00</td>\n",
       "      <td>RFC</td>\n",
       "      <td>WEST</td>\n",
       "      <td>DUQ</td>\n",
       "      <td>DUQ</td>\n",
       "      <td>1419.881</td>\n",
       "      <td>True</td>\n",
       "    </tr>\n",
       "    <tr>\n",
       "      <th>1</th>\n",
       "      <td>2/1/2017 6:00</td>\n",
       "      <td>2017-02-01 01:00:00</td>\n",
       "      <td>RFC</td>\n",
       "      <td>WEST</td>\n",
       "      <td>DUQ</td>\n",
       "      <td>DUQ</td>\n",
       "      <td>1379.505</td>\n",
       "      <td>True</td>\n",
       "    </tr>\n",
       "    <tr>\n",
       "      <th>2</th>\n",
       "      <td>2/1/2017 7:00</td>\n",
       "      <td>2017-02-01 02:00:00</td>\n",
       "      <td>RFC</td>\n",
       "      <td>WEST</td>\n",
       "      <td>DUQ</td>\n",
       "      <td>DUQ</td>\n",
       "      <td>1366.106</td>\n",
       "      <td>True</td>\n",
       "    </tr>\n",
       "    <tr>\n",
       "      <th>3</th>\n",
       "      <td>2/1/2017 8:00</td>\n",
       "      <td>2017-02-01 03:00:00</td>\n",
       "      <td>RFC</td>\n",
       "      <td>WEST</td>\n",
       "      <td>DUQ</td>\n",
       "      <td>DUQ</td>\n",
       "      <td>1364.453</td>\n",
       "      <td>True</td>\n",
       "    </tr>\n",
       "    <tr>\n",
       "      <th>4</th>\n",
       "      <td>2/1/2017 9:00</td>\n",
       "      <td>2017-02-01 04:00:00</td>\n",
       "      <td>RFC</td>\n",
       "      <td>WEST</td>\n",
       "      <td>DUQ</td>\n",
       "      <td>DUQ</td>\n",
       "      <td>1391.265</td>\n",
       "      <td>True</td>\n",
       "    </tr>\n",
       "  </tbody>\n",
       "</table>\n",
       "</div>"
      ],
      "text/plain": [
       "  datetime_beginning_utc datetime_beginning_ept nerc_region mkt_region zone  \\\n",
       "0          2/1/2017 5:00    2017-02-01 00:00:00         RFC       WEST  DUQ   \n",
       "1          2/1/2017 6:00    2017-02-01 01:00:00         RFC       WEST  DUQ   \n",
       "2          2/1/2017 7:00    2017-02-01 02:00:00         RFC       WEST  DUQ   \n",
       "3          2/1/2017 8:00    2017-02-01 03:00:00         RFC       WEST  DUQ   \n",
       "4          2/1/2017 9:00    2017-02-01 04:00:00         RFC       WEST  DUQ   \n",
       "\n",
       "  load_area        mw  is_verified  \n",
       "0       DUQ  1419.881         True  \n",
       "1       DUQ  1379.505         True  \n",
       "2       DUQ  1366.106         True  \n",
       "3       DUQ  1364.453         True  \n",
       "4       DUQ  1391.265         True  "
      ]
     },
     "execution_count": 14,
     "metadata": {},
     "output_type": "execute_result"
    }
   ],
   "source": [
    "Energy_MW.head()"
   ]
  },
  {
   "cell_type": "code",
   "execution_count": 15,
   "id": "8c4b5244-4c14-43e0-8bc8-1705ab396bcc",
   "metadata": {},
   "outputs": [],
   "source": [
    "Temp_Drybulb.DATE=Temp_Drybulb.DATE.astype('datetime64')"
   ]
  },
  {
   "cell_type": "code",
   "execution_count": 16,
   "id": "ece1d8f4-55a9-466f-b91d-69330e2b284f",
   "metadata": {},
   "outputs": [
    {
     "data": {
      "text/plain": [
       "dtype('<M8[ns]')"
      ]
     },
     "execution_count": 16,
     "metadata": {},
     "output_type": "execute_result"
    }
   ],
   "source": [
    "Temp_Drybulb.DATE.dtype"
   ]
  },
  {
   "cell_type": "code",
   "execution_count": 17,
   "id": "2e82e0a9-e8c5-447f-8e86-f7b69ff16d9c",
   "metadata": {},
   "outputs": [
    {
     "data": {
      "text/plain": [
       "0        17-02-17 00\n",
       "1        17-02-17 01\n",
       "2        17-02-17 02\n",
       "3        17-02-17 03\n",
       "4        17-02-17 04\n",
       "            ...     \n",
       "26275    20-01-20 19\n",
       "26276    20-01-20 20\n",
       "26277    20-01-20 21\n",
       "26278    20-01-20 22\n",
       "26279    20-01-20 23\n",
       "Name: DATE, Length: 26280, dtype: object"
      ]
     },
     "execution_count": 17,
     "metadata": {},
     "output_type": "execute_result"
    }
   ],
   "source": [
    "\n",
    "Temp_Drybulb.DATE.dt.strftime('%y-%m-%y %H')\n",
    "\n",
    "\n",
    "# TicketsDF['submitDate'].dt.strftime('%H:%M')"
   ]
  },
  {
   "cell_type": "code",
   "execution_count": 25,
   "id": "f7a75705-f349-4324-9b5f-686f9ded8226",
   "metadata": {},
   "outputs": [
    {
     "data": {
      "text/html": [
       "<div>\n",
       "<style scoped>\n",
       "    .dataframe tbody tr th:only-of-type {\n",
       "        vertical-align: middle;\n",
       "    }\n",
       "\n",
       "    .dataframe tbody tr th {\n",
       "        vertical-align: top;\n",
       "    }\n",
       "\n",
       "    .dataframe thead th {\n",
       "        text-align: right;\n",
       "    }\n",
       "</style>\n",
       "<table border=\"1\" class=\"dataframe\">\n",
       "  <thead>\n",
       "    <tr style=\"text-align: right;\">\n",
       "      <th></th>\n",
       "      <th>STATION</th>\n",
       "      <th>DATE</th>\n",
       "      <th>REPORT_TYPE</th>\n",
       "      <th>SOURCE</th>\n",
       "      <th>HourlyDryBulbTemperature</th>\n",
       "    </tr>\n",
       "  </thead>\n",
       "  <tbody>\n",
       "    <tr>\n",
       "      <th>0</th>\n",
       "      <td>72520514762</td>\n",
       "      <td>2017-02-01 00:53:00</td>\n",
       "      <td>FM-15</td>\n",
       "      <td>7</td>\n",
       "      <td>37.0</td>\n",
       "    </tr>\n",
       "    <tr>\n",
       "      <th>1</th>\n",
       "      <td>72520514762</td>\n",
       "      <td>2017-02-01 01:53:00</td>\n",
       "      <td>FM-15</td>\n",
       "      <td>7</td>\n",
       "      <td>37.0</td>\n",
       "    </tr>\n",
       "    <tr>\n",
       "      <th>2</th>\n",
       "      <td>72520514762</td>\n",
       "      <td>2017-02-01 02:53:00</td>\n",
       "      <td>FM-15</td>\n",
       "      <td>7</td>\n",
       "      <td>36.0</td>\n",
       "    </tr>\n",
       "    <tr>\n",
       "      <th>3</th>\n",
       "      <td>72520514762</td>\n",
       "      <td>2017-02-01 03:53:00</td>\n",
       "      <td>FM-15</td>\n",
       "      <td>7</td>\n",
       "      <td>36.0</td>\n",
       "    </tr>\n",
       "    <tr>\n",
       "      <th>4</th>\n",
       "      <td>72520514762</td>\n",
       "      <td>2017-02-01 04:53:00</td>\n",
       "      <td>FM-15</td>\n",
       "      <td>7</td>\n",
       "      <td>36.0</td>\n",
       "    </tr>\n",
       "  </tbody>\n",
       "</table>\n",
       "</div>"
      ],
      "text/plain": [
       "       STATION                DATE REPORT_TYPE  SOURCE  \\\n",
       "0  72520514762 2017-02-01 00:53:00       FM-15       7   \n",
       "1  72520514762 2017-02-01 01:53:00       FM-15       7   \n",
       "2  72520514762 2017-02-01 02:53:00       FM-15       7   \n",
       "3  72520514762 2017-02-01 03:53:00       FM-15       7   \n",
       "4  72520514762 2017-02-01 04:53:00       FM-15       7   \n",
       "\n",
       "   HourlyDryBulbTemperature  \n",
       "0                      37.0  \n",
       "1                      37.0  \n",
       "2                      36.0  \n",
       "3                      36.0  \n",
       "4                      36.0  "
      ]
     },
     "execution_count": 25,
     "metadata": {},
     "output_type": "execute_result"
    }
   ],
   "source": [
    "Temp_Drybulb.head()"
   ]
  },
  {
   "cell_type": "code",
   "execution_count": 26,
   "id": "0ef666e8-7f6f-489b-8fc9-1c09f4cbaa64",
   "metadata": {},
   "outputs": [
    {
     "data": {
      "text/plain": [
       "0        17-02-01 00\n",
       "1        17-02-01 01\n",
       "2        17-02-01 02\n",
       "3        17-02-01 03\n",
       "4        17-02-01 04\n",
       "            ...     \n",
       "26275    20-01-31 19\n",
       "26276    20-01-31 20\n",
       "26277    20-01-31 21\n",
       "26278    20-01-31 22\n",
       "26279    20-01-31 23\n",
       "Name: datetime_beginning_ept, Length: 26280, dtype: object"
      ]
     },
     "execution_count": 26,
     "metadata": {},
     "output_type": "execute_result"
    }
   ],
   "source": [
    "Energy_MW.datetime_beginning_ept.dt.strftime('%y-%m-%d %H')"
   ]
  },
  {
   "cell_type": "code",
   "execution_count": 27,
   "id": "b1f0ffec-3975-4567-b89f-156e571abd18",
   "metadata": {},
   "outputs": [],
   "source": [
    "df=pd.merge(Temp_Drybulb[['DATE','HourlyDryBulbTemperature']],Energy_MW[['datetime_beginning_ept','mw']],how='left',left_on=Temp_Drybulb.DATE.dt.strftime('%y-%m-%d %H'),right_on=Energy_MW.datetime_beginning_ept.dt.strftime('%y-%m-%d %H'))"
   ]
  },
  {
   "cell_type": "code",
   "execution_count": 19,
   "id": "4deaf7cf-04ea-4d52-8e6f-5c189bcdc5e9",
   "metadata": {},
   "outputs": [],
   "source": [
    "# df=pd.merge(Temp_Drybulb[['DATE','HourlyDryBulbTemperature']],Energy_MW[['datetime_beginning_ept','mw']],how='left',left_on=Temp_Drybulb.DATE.dt.strftime('%y-%m-%d %H'),right_on=Energy_MW.datetime_beginning_ept.dt.strftime('%y-%m-%y %H'))"
   ]
  },
  {
   "cell_type": "code",
   "execution_count": 20,
   "id": "1056afee-aa2f-48d9-9a5e-393651ab405e",
   "metadata": {},
   "outputs": [],
   "source": [
    "# df=pd.merge(Temp_Drybulb[['DATE','HourlyDryBulbTemperature']],Energy_MW[['datetime_beginning_ept','mw']],how='left',left_on=Temp_Drybulb.DATE.dt.hour,right_on=Energy_MW.datetime_beginning_ept.dt.hour)"
   ]
  },
  {
   "cell_type": "code",
   "execution_count": 28,
   "id": "b4e37dcb-e916-47c0-a0b8-6f02c0f46a8e",
   "metadata": {},
   "outputs": [
    {
     "data": {
      "text/html": [
       "<div>\n",
       "<style scoped>\n",
       "    .dataframe tbody tr th:only-of-type {\n",
       "        vertical-align: middle;\n",
       "    }\n",
       "\n",
       "    .dataframe tbody tr th {\n",
       "        vertical-align: top;\n",
       "    }\n",
       "\n",
       "    .dataframe thead th {\n",
       "        text-align: right;\n",
       "    }\n",
       "</style>\n",
       "<table border=\"1\" class=\"dataframe\">\n",
       "  <thead>\n",
       "    <tr style=\"text-align: right;\">\n",
       "      <th></th>\n",
       "      <th>key_0</th>\n",
       "      <th>DATE</th>\n",
       "      <th>HourlyDryBulbTemperature</th>\n",
       "      <th>datetime_beginning_ept</th>\n",
       "      <th>mw</th>\n",
       "    </tr>\n",
       "  </thead>\n",
       "  <tbody>\n",
       "    <tr>\n",
       "      <th>0</th>\n",
       "      <td>17-02-01 00</td>\n",
       "      <td>2017-02-01 00:53:00</td>\n",
       "      <td>37.0</td>\n",
       "      <td>2017-02-01 00:00:00</td>\n",
       "      <td>1419.881</td>\n",
       "    </tr>\n",
       "    <tr>\n",
       "      <th>1</th>\n",
       "      <td>17-02-01 01</td>\n",
       "      <td>2017-02-01 01:53:00</td>\n",
       "      <td>37.0</td>\n",
       "      <td>2017-02-01 01:00:00</td>\n",
       "      <td>1379.505</td>\n",
       "    </tr>\n",
       "    <tr>\n",
       "      <th>2</th>\n",
       "      <td>17-02-01 02</td>\n",
       "      <td>2017-02-01 02:53:00</td>\n",
       "      <td>36.0</td>\n",
       "      <td>2017-02-01 02:00:00</td>\n",
       "      <td>1366.106</td>\n",
       "    </tr>\n",
       "    <tr>\n",
       "      <th>3</th>\n",
       "      <td>17-02-01 03</td>\n",
       "      <td>2017-02-01 03:53:00</td>\n",
       "      <td>36.0</td>\n",
       "      <td>2017-02-01 03:00:00</td>\n",
       "      <td>1364.453</td>\n",
       "    </tr>\n",
       "    <tr>\n",
       "      <th>4</th>\n",
       "      <td>17-02-01 04</td>\n",
       "      <td>2017-02-01 04:53:00</td>\n",
       "      <td>36.0</td>\n",
       "      <td>2017-02-01 04:00:00</td>\n",
       "      <td>1391.265</td>\n",
       "    </tr>\n",
       "  </tbody>\n",
       "</table>\n",
       "</div>"
      ],
      "text/plain": [
       "         key_0                DATE  HourlyDryBulbTemperature  \\\n",
       "0  17-02-01 00 2017-02-01 00:53:00                      37.0   \n",
       "1  17-02-01 01 2017-02-01 01:53:00                      37.0   \n",
       "2  17-02-01 02 2017-02-01 02:53:00                      36.0   \n",
       "3  17-02-01 03 2017-02-01 03:53:00                      36.0   \n",
       "4  17-02-01 04 2017-02-01 04:53:00                      36.0   \n",
       "\n",
       "  datetime_beginning_ept        mw  \n",
       "0    2017-02-01 00:00:00  1419.881  \n",
       "1    2017-02-01 01:00:00  1379.505  \n",
       "2    2017-02-01 02:00:00  1366.106  \n",
       "3    2017-02-01 03:00:00  1364.453  \n",
       "4    2017-02-01 04:00:00  1391.265  "
      ]
     },
     "execution_count": 28,
     "metadata": {},
     "output_type": "execute_result"
    }
   ],
   "source": [
    "df.head()"
   ]
  },
  {
   "cell_type": "code",
   "execution_count": 29,
   "id": "c05f4bed-ed0e-4675-ae6a-09684e1e2863",
   "metadata": {},
   "outputs": [
    {
     "data": {
      "text/plain": [
       "(26283, 5)"
      ]
     },
     "execution_count": 29,
     "metadata": {},
     "output_type": "execute_result"
    }
   ],
   "source": [
    "df.shape"
   ]
  },
  {
   "cell_type": "code",
   "execution_count": 23,
   "id": "402f71c9-0818-4f45-93fd-a4f8f8e5a581",
   "metadata": {},
   "outputs": [
    {
     "data": {
      "text/plain": [
       "True"
      ]
     },
     "execution_count": 23,
     "metadata": {},
     "output_type": "execute_result"
    }
   ],
   "source": [
    "df.isna().values.any()"
   ]
  },
  {
   "cell_type": "code",
   "execution_count": 24,
   "id": "e9635ab2-5ebf-4850-872c-6ca827afbcfb",
   "metadata": {},
   "outputs": [
    {
     "data": {
      "text/html": [
       "<div>\n",
       "<style scoped>\n",
       "    .dataframe tbody tr th:only-of-type {\n",
       "        vertical-align: middle;\n",
       "    }\n",
       "\n",
       "    .dataframe tbody tr th {\n",
       "        vertical-align: top;\n",
       "    }\n",
       "\n",
       "    .dataframe thead th {\n",
       "        text-align: right;\n",
       "    }\n",
       "</style>\n",
       "<table border=\"1\" class=\"dataframe\">\n",
       "  <thead>\n",
       "    <tr style=\"text-align: right;\">\n",
       "      <th></th>\n",
       "      <th>datetime_beginning_ept</th>\n",
       "      <th>mw</th>\n",
       "      <th>DATE</th>\n",
       "      <th>HourlyDryBulbTemperature</th>\n",
       "    </tr>\n",
       "  </thead>\n",
       "  <tbody>\n",
       "    <tr>\n",
       "      <th>0</th>\n",
       "      <td>2017-02-01 00:00:00</td>\n",
       "      <td>1419.881</td>\n",
       "      <td>NaT</td>\n",
       "      <td>NaN</td>\n",
       "    </tr>\n",
       "    <tr>\n",
       "      <th>1</th>\n",
       "      <td>2017-02-01 01:00:00</td>\n",
       "      <td>1379.505</td>\n",
       "      <td>NaT</td>\n",
       "      <td>NaN</td>\n",
       "    </tr>\n",
       "    <tr>\n",
       "      <th>2</th>\n",
       "      <td>2017-02-01 02:00:00</td>\n",
       "      <td>1366.106</td>\n",
       "      <td>NaT</td>\n",
       "      <td>NaN</td>\n",
       "    </tr>\n",
       "    <tr>\n",
       "      <th>3</th>\n",
       "      <td>2017-02-01 03:00:00</td>\n",
       "      <td>1364.453</td>\n",
       "      <td>NaT</td>\n",
       "      <td>NaN</td>\n",
       "    </tr>\n",
       "    <tr>\n",
       "      <th>4</th>\n",
       "      <td>2017-02-01 04:00:00</td>\n",
       "      <td>1391.265</td>\n",
       "      <td>NaT</td>\n",
       "      <td>NaN</td>\n",
       "    </tr>\n",
       "    <tr>\n",
       "      <th>...</th>\n",
       "      <td>...</td>\n",
       "      <td>...</td>\n",
       "      <td>...</td>\n",
       "      <td>...</td>\n",
       "    </tr>\n",
       "    <tr>\n",
       "      <th>26275</th>\n",
       "      <td>2020-01-31 19:00:00</td>\n",
       "      <td>1618.484</td>\n",
       "      <td>NaT</td>\n",
       "      <td>NaN</td>\n",
       "    </tr>\n",
       "    <tr>\n",
       "      <th>26276</th>\n",
       "      <td>2020-01-31 20:00:00</td>\n",
       "      <td>1580.925</td>\n",
       "      <td>NaT</td>\n",
       "      <td>NaN</td>\n",
       "    </tr>\n",
       "    <tr>\n",
       "      <th>26277</th>\n",
       "      <td>2020-01-31 21:00:00</td>\n",
       "      <td>1545.354</td>\n",
       "      <td>NaT</td>\n",
       "      <td>NaN</td>\n",
       "    </tr>\n",
       "    <tr>\n",
       "      <th>26278</th>\n",
       "      <td>2020-01-31 22:00:00</td>\n",
       "      <td>1478.832</td>\n",
       "      <td>NaT</td>\n",
       "      <td>NaN</td>\n",
       "    </tr>\n",
       "    <tr>\n",
       "      <th>26279</th>\n",
       "      <td>2020-01-31 23:00:00</td>\n",
       "      <td>1405.188</td>\n",
       "      <td>NaT</td>\n",
       "      <td>NaN</td>\n",
       "    </tr>\n",
       "  </tbody>\n",
       "</table>\n",
       "<p>26280 rows × 4 columns</p>\n",
       "</div>"
      ],
      "text/plain": [
       "      datetime_beginning_ept        mw DATE  HourlyDryBulbTemperature\n",
       "0        2017-02-01 00:00:00  1419.881  NaT                       NaN\n",
       "1        2017-02-01 01:00:00  1379.505  NaT                       NaN\n",
       "2        2017-02-01 02:00:00  1366.106  NaT                       NaN\n",
       "3        2017-02-01 03:00:00  1364.453  NaT                       NaN\n",
       "4        2017-02-01 04:00:00  1391.265  NaT                       NaN\n",
       "...                      ...       ...  ...                       ...\n",
       "26275    2020-01-31 19:00:00  1618.484  NaT                       NaN\n",
       "26276    2020-01-31 20:00:00  1580.925  NaT                       NaN\n",
       "26277    2020-01-31 21:00:00  1545.354  NaT                       NaN\n",
       "26278    2020-01-31 22:00:00  1478.832  NaT                       NaN\n",
       "26279    2020-01-31 23:00:00  1405.188  NaT                       NaN\n",
       "\n",
       "[26280 rows x 4 columns]"
      ]
     },
     "execution_count": 24,
     "metadata": {},
     "output_type": "execute_result"
    }
   ],
   "source": [
    "pd.merge(Energy_MW[['datetime_beginning_ept','mw']],Temp_Drybulb[['DATE','HourlyDryBulbTemperature']],right_on='DATE',left_on='datetime_beginning_ept',how='left')"
   ]
  }
 ],
 "metadata": {
  "kernelspec": {
   "display_name": "Python 3 (ipykernel)",
   "language": "python",
   "name": "python3"
  },
  "language_info": {
   "codemirror_mode": {
    "name": "ipython",
    "version": 3
   },
   "file_extension": ".py",
   "mimetype": "text/x-python",
   "name": "python",
   "nbconvert_exporter": "python",
   "pygments_lexer": "ipython3",
   "version": "3.10.6"
  }
 },
 "nbformat": 4,
 "nbformat_minor": 5
}
